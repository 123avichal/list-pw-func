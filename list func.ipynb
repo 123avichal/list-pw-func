{
 "cells": [
  {
   "cell_type": "markdown",
   "id": "4399e7c6-9614-4c68-8ef2-09df64ca7a1c",
   "metadata": {},
   "source": [
    "Q1. What is the syntax for adding an element to a list in Python?\n",
    "ans  l.insert(index,obj)"
   ]
  },
  {
   "cell_type": "markdown",
   "id": "3758e1db-14ef-4194-a3ce-54317adfa4f6",
   "metadata": {},
   "source": [
    "Q2. What is the difference between remove() and pop() functions in Python?\n",
    "ans pop() takes index to remove and remover() takes value or str which you want to remove from the list"
   ]
  },
  {
   "cell_type": "code",
   "execution_count": 44,
   "id": "4f921646-8629-47fd-811f-d41c7553d21a",
   "metadata": {},
   "outputs": [],
   "source": [
    "#Q3. Write a Python code to sort a list in descending order.\n",
    "l= [1,2,3,4,5,5]"
   ]
  },
  {
   "cell_type": "code",
   "execution_count": 45,
   "id": "4995fa0b-0eef-43de-910c-42981291cbbf",
   "metadata": {},
   "outputs": [
    {
     "data": {
      "text/plain": [
       "[5, 5, 4, 3, 2, 1]"
      ]
     },
     "execution_count": 45,
     "metadata": {},
     "output_type": "execute_result"
    }
   ],
   "source": [
    "l[::-1]"
   ]
  },
  {
   "cell_type": "code",
   "execution_count": 46,
   "id": "eae29774-326d-4a35-aff6-adbc2d96aa37",
   "metadata": {},
   "outputs": [
    {
     "data": {
      "text/plain": [
       "2"
      ]
     },
     "execution_count": 46,
     "metadata": {},
     "output_type": "execute_result"
    }
   ],
   "source": [
    "#Q4. Write a Python code to count the number of occurrences of an element in a list.\n",
    "l.count(5)"
   ]
  },
  {
   "cell_type": "code",
   "execution_count": 47,
   "id": "7046cf51-3df3-446e-bb98-aa5c851ffe1b",
   "metadata": {},
   "outputs": [],
   "source": [
    "# Q5. Write a Python code to reverse a list.\n",
    "l.reverse()"
   ]
  },
  {
   "cell_type": "code",
   "execution_count": 48,
   "id": "997d62b7-1dc6-4999-9c83-176d500c62eb",
   "metadata": {},
   "outputs": [
    {
     "data": {
      "text/plain": [
       "[5, 5, 4, 3, 2, 1]"
      ]
     },
     "execution_count": 48,
     "metadata": {},
     "output_type": "execute_result"
    }
   ],
   "source": [
    "l"
   ]
  },
  {
   "cell_type": "code",
   "execution_count": null,
   "id": "62907f0f-7a9b-4f42-aed4-a1e2260e0d67",
   "metadata": {},
   "outputs": [],
   "source": []
  }
 ],
 "metadata": {
  "kernelspec": {
   "display_name": "Python 3 (ipykernel)",
   "language": "python",
   "name": "python3"
  },
  "language_info": {
   "codemirror_mode": {
    "name": "ipython",
    "version": 3
   },
   "file_extension": ".py",
   "mimetype": "text/x-python",
   "name": "python",
   "nbconvert_exporter": "python",
   "pygments_lexer": "ipython3",
   "version": "3.10.8"
  }
 },
 "nbformat": 4,
 "nbformat_minor": 5
}
